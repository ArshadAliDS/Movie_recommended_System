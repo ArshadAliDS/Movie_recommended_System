{
 "cells": [
  {
   "cell_type": "code",
   "execution_count": 1,
   "id": "d535ee96-61b9-4dc2-82ad-3dd07dc380a0",
   "metadata": {},
   "outputs": [],
   "source": [
    "import numpy as np\n",
    "import pandas as pd"
   ]
  },
  {
   "cell_type": "code",
   "execution_count": 2,
   "id": "6bf0abf0-ea67-46df-925a-53f84dbb9cf2",
   "metadata": {},
   "outputs": [],
   "source": [
    "movies= pd.read_csv('tmdb_5000_movies.csv')\n",
    "credits= pd.read_csv('tmdb_5000_credits.csv')"
   ]
  },
  {
   "cell_type": "code",
   "execution_count": 3,
   "id": "e36fdfa8-4339-4765-a327-d1cfbbb0b8f8",
   "metadata": {},
   "outputs": [],
   "source": [
    "movies = movies.merge(credits,on='title',how='inner')"
   ]
  },
  {
   "cell_type": "code",
   "execution_count": 4,
   "id": "574f3c84-e992-4841-864e-459abb096471",
   "metadata": {},
   "outputs": [],
   "source": [
    "movies = movies[['movie_id','title','overview','genres','keywords','cast','crew']]"
   ]
  },
  {
   "cell_type": "code",
   "execution_count": 5,
   "id": "c0d54a37-6b2f-4000-abe4-9d77da2caf01",
   "metadata": {},
   "outputs": [],
   "source": [
    "import ast"
   ]
  },
  {
   "cell_type": "code",
   "execution_count": 6,
   "id": "c393c317-bda2-46ca-a547-bc5a1f47d2a8",
   "metadata": {},
   "outputs": [],
   "source": [
    "def convert(text):\n",
    "    L = []\n",
    "    for i in ast.literal_eval(text):\n",
    "        L.append(i['name']) \n",
    "    return L "
   ]
  },
  {
   "cell_type": "code",
   "execution_count": 7,
   "id": "e37677d1-871a-4f81-8845-d3b0ab7fbddf",
   "metadata": {},
   "outputs": [],
   "source": [
    "movies['genres']= movies['genres'].apply(convert)"
   ]
  },
  {
   "cell_type": "code",
   "execution_count": 8,
   "id": "f126d5c1-50f8-486b-85a5-548120a0f2ce",
   "metadata": {},
   "outputs": [],
   "source": [
    "movies['keywords']= movies['keywords'].apply(convert)"
   ]
  },
  {
   "cell_type": "code",
   "execution_count": 9,
   "id": "f7fcf657-3ceb-4d91-87a4-d4078305ab62",
   "metadata": {},
   "outputs": [],
   "source": [
    "def convertcast(text):\n",
    "    L = []\n",
    "    for i in ast.literal_eval(text):\n",
    "        L.append(i['name'])\n",
    "        if len(L)> 4 : break\n",
    "    return L "
   ]
  },
  {
   "cell_type": "code",
   "execution_count": 10,
   "id": "b9ac9da6-3e89-4869-a772-5269d4681acc",
   "metadata": {},
   "outputs": [],
   "source": [
    "movies['cast']= movies['cast'].apply(convertcast)"
   ]
  },
  {
   "cell_type": "code",
   "execution_count": 11,
   "id": "00abb5d0-8c1f-47ab-9c8b-9c7bf2414d6c",
   "metadata": {},
   "outputs": [],
   "source": [
    "def director(text):\n",
    "    L = []\n",
    "    for i in ast.literal_eval(text):\n",
    "        if i['job'] == 'Director':\n",
    "            L.append(i['name'])\n",
    "            break\n",
    "    return L "
   ]
  },
  {
   "cell_type": "code",
   "execution_count": 12,
   "id": "c66f0be5-b6a8-4183-aad4-a415dd085b99",
   "metadata": {},
   "outputs": [],
   "source": [
    "movies['Director']= movies['crew'].apply(director)\n",
    "# movies.head(4)"
   ]
  },
  {
   "cell_type": "code",
   "execution_count": 13,
   "id": "9c1ff0a7-228f-42fb-831d-bbb29a8d0c73",
   "metadata": {},
   "outputs": [],
   "source": [
    "def producer(text):\n",
    "    L = []\n",
    "    for i in ast.literal_eval(text):\n",
    "        if i['job'] == 'Producer':\n",
    "            L.append(i['name'])\n",
    "            break\n",
    "    return L "
   ]
  },
  {
   "cell_type": "code",
   "execution_count": 14,
   "id": "ab8305e9-d4e5-4f54-8e18-f3543ead1f64",
   "metadata": {},
   "outputs": [],
   "source": [
    "movies['Producer']= movies['crew'].apply(producer)\n",
    "# movies.head(4)"
   ]
  },
  {
   "cell_type": "code",
   "execution_count": 15,
   "id": "a368aad4-c9c6-4315-85a3-293f7f577dc5",
   "metadata": {},
   "outputs": [],
   "source": [
    "def writer(text):\n",
    "    L = []\n",
    "    for i in ast.literal_eval(text):\n",
    "        if i['job'] == 'Writer':\n",
    "            L.append(i['name'])\n",
    "            break\n",
    "    return L "
   ]
  },
  {
   "cell_type": "code",
   "execution_count": 16,
   "id": "d4b5ac5f-9601-446b-a750-bfd4ab5b57eb",
   "metadata": {},
   "outputs": [],
   "source": [
    "movies['Writer']= movies['crew'].apply(producer)"
   ]
  },
  {
   "cell_type": "code",
   "execution_count": 17,
   "id": "541abc37-97e8-4051-af81-7c2aaf2b0d43",
   "metadata": {},
   "outputs": [],
   "source": [
    "movies.dropna(inplace=True)"
   ]
  },
  {
   "cell_type": "code",
   "execution_count": 18,
   "id": "f2f50d85-9441-4fd3-ab74-fc00ebb496bf",
   "metadata": {},
   "outputs": [],
   "source": [
    "movies['overview'] = movies['overview'].apply(lambda x: x.split())"
   ]
  },
  {
   "cell_type": "code",
   "execution_count": 19,
   "id": "2d855ae1-0cfd-4b2d-a12d-4fce91ba7a3b",
   "metadata": {},
   "outputs": [],
   "source": [
    "def collapse(L):\n",
    "    L1 = []\n",
    "    for i in L:\n",
    "        L1.append(i.replace(\" \",\"\"))\n",
    "    return L1"
   ]
  },
  {
   "cell_type": "code",
   "execution_count": 20,
   "id": "1c4a6282-f13c-45b3-95ff-7a60408438be",
   "metadata": {},
   "outputs": [],
   "source": [
    "movies['cast'] = movies['cast'].apply(collapse)\n",
    "movies['crew'] = movies['crew'].apply(collapse)\n",
    "movies['genres'] = movies['genres'].apply(collapse)\n",
    "movies['keywords'] = movies['keywords'].apply(collapse)\n",
    "movies['Director'] = movies['Director'].apply(collapse)\n",
    "movies['Producer'] = movies['Producer'].apply(collapse)\n",
    "movies['Writer'] = movies['Writer'].apply(collapse)"
   ]
  },
  {
   "cell_type": "code",
   "execution_count": 21,
   "id": "9133b27c-3272-4883-afc6-c25a3b49f285",
   "metadata": {},
   "outputs": [],
   "source": [
    "movies['tags']= movies['overview']+movies['genres']+movies['keywords']+movies['cast']+movies['Director']+movies['Producer']+movies['Writer']"
   ]
  },
  {
   "cell_type": "code",
   "execution_count": 22,
   "id": "b0e3b71e-55a9-425e-9106-2d5912869153",
   "metadata": {},
   "outputs": [],
   "source": [
    "movies= movies[['movie_id','title','tags']]"
   ]
  },
  {
   "cell_type": "code",
   "execution_count": 48,
   "id": "c9c1cea7-af80-433f-80b9-8f5cd9e87123",
   "metadata": {},
   "outputs": [],
   "source": [
    "movies['tags'] = movies['tags'].apply(lambda x: \" \".join(x))"
   ]
  },
  {
   "cell_type": "code",
   "execution_count": 50,
   "id": "1331a40d-43b5-4656-87bc-05a6852801b5",
   "metadata": {},
   "outputs": [],
   "source": [
    "from sklearn.feature_extraction.text import CountVectorizer\n",
    "cv = CountVectorizer(max_features=10000,stop_words='english')"
   ]
  },
  {
   "cell_type": "code",
   "execution_count": 60,
   "id": "440d4198-7ae9-43da-9e49-8be6771cc0b8",
   "metadata": {},
   "outputs": [],
   "source": [
    "vector = cv.fit_transform(movies['tags']).toarray()"
   ]
  },
  {
   "cell_type": "code",
   "execution_count": 56,
   "id": "ff9e63bd-582c-4d9f-8f16-c1487e18aefc",
   "metadata": {},
   "outputs": [],
   "source": [
    "from sklearn.metrics.pairwise import cosine_similarity\n",
    "similarity = cosine_similarity(vector)"
   ]
  },
  {
   "cell_type": "code",
   "execution_count": 129,
   "id": "6971922a-b656-4d5e-bc59-faa24be7719c",
   "metadata": {},
   "outputs": [],
   "source": [
    "movie = movies[movies['title'] == 'The Lego Movie'].index[0]"
   ]
  },
  {
   "cell_type": "code",
   "execution_count": 201,
   "id": "03a8e009-2b71-4b00-9239-51bea2d2a46b",
   "metadata": {},
   "outputs": [],
   "source": [
    "def suggest(movie):\n",
    "    index = movies[movies['title'] == movie].index[0]\n",
    "    distances = sorted(list(enumerate(similarity[index])),reverse=True,key = lambda x: x[1])\n",
    "    for i in distances[1:6]:\n",
    "        print(movies.iloc[i[0]].title)"
   ]
  },
  {
   "cell_type": "code",
   "execution_count": 223,
   "id": "ae7bd790-666e-40a5-9934-916d8119c18e",
   "metadata": {},
   "outputs": [
    {
     "name": "stdout",
     "output_type": "stream",
     "text": [
      "Harry Potter and the Order of the Phoenix\n",
      "Harry Potter and the Goblet of Fire\n",
      "Harry Potter and the Chamber of Secrets\n",
      "Harry Potter and the Philosopher's Stone\n",
      "Harry Potter and the Prisoner of Azkaban\n"
     ]
    }
   ],
   "source": [
    "suggest('Harry Potter and the Half-Blood Prince')"
   ]
  },
  {
   "cell_type": "code",
   "execution_count": 225,
   "id": "4e73cd10-4092-41d7-97e3-c1f83f87c88c",
   "metadata": {},
   "outputs": [],
   "source": [
    "import pickle"
   ]
  },
  {
   "cell_type": "code",
   "execution_count": 231,
   "id": "1488e3dd-0463-4483-9cee-b6f387f43092",
   "metadata": {},
   "outputs": [],
   "source": [
    "pickle.dump(movies.to_dict(),open('movie_dict.pkl','wb'))\n",
    "pickle.dump(similarity,open('similarity.pkl','wb'))"
   ]
  },
  {
   "cell_type": "code",
   "execution_count": null,
   "id": "dc83adbc-a810-406a-be7f-e40bd84cb6a6",
   "metadata": {},
   "outputs": [],
   "source": []
  }
 ],
 "metadata": {
  "kernelspec": {
   "display_name": "Python 3 (ipykernel)",
   "language": "python",
   "name": "python3"
  },
  "language_info": {
   "codemirror_mode": {
    "name": "ipython",
    "version": 3
   },
   "file_extension": ".py",
   "mimetype": "text/x-python",
   "name": "python",
   "nbconvert_exporter": "python",
   "pygments_lexer": "ipython3",
   "version": "3.11.7"
  }
 },
 "nbformat": 4,
 "nbformat_minor": 5
}
